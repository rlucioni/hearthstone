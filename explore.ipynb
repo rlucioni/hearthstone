{
 "cells": [
  {
   "cell_type": "code",
   "execution_count": 3,
   "metadata": {
    "collapsed": true
   },
   "outputs": [],
   "source": [
    "import collections\n",
    "import itertools\n",
    "import json"
   ]
  },
  {
   "cell_type": "code",
   "execution_count": 4,
   "metadata": {
    "collapsed": false
   },
   "outputs": [
    {
     "data": {
      "text/plain": [
       "dict_keys(['Credits', 'System', 'Promo', 'Reward', 'Missions', 'Mean Streets of Gadgetzan', 'Tavern Brawl', 'Hero Skins', 'The Grand Tournament', 'Goblins vs Gnomes', 'Naxxramas', 'Blackrock Mountain', 'Basic', 'The League of Explorers', 'Whispers of the Old Gods', 'Karazhan', 'Debug', 'Classic'])"
      ]
     },
     "execution_count": 4,
     "metadata": {},
     "output_type": "execute_result"
    }
   ],
   "source": [
    "# Let's see what fields are present in the card data, so we can accurately model the data and load it into a database.\n",
    "with open('data/cards.json') as f:\n",
    "    data = json.load(f)\n",
    "\n",
    "# Keys are card sets, which also appear in individual card data in the `cardSet` field.\n",
    "data.keys()"
   ]
  },
  {
   "cell_type": "code",
   "execution_count": 7,
   "metadata": {
    "collapsed": false
   },
   "outputs": [
    {
     "name": "stdout",
     "output_type": "stream",
     "text": [
      "2818\n"
     ]
    }
   ],
   "source": [
    "# This yields an iterator that returns one card at a time.\n",
    "cards = itertools.chain.from_iterable(data.values())\n",
    "cards = list(cards)\n",
    "\n",
    "# You won't see most of these cards in a deck.\n",
    "# They include heroes, characters from the campaign, enchantments, and more.\n",
    "card_count = len(cards)\n",
    "print(card_count)"
   ]
  },
  {
   "cell_type": "code",
   "execution_count": 9,
   "metadata": {
    "collapsed": false
   },
   "outputs": [],
   "source": [
    "fields = collections.defaultdict(int)\n",
    "for card in cards:\n",
    "    for key in card:\n",
    "        fields[key] += 1\n",
    "\n",
    "required = []\n",
    "optional = []\n",
    "for field, count in fields.items():\n",
    "    if count == card_count:\n",
    "        required.append(field)\n",
    "    else:\n",
    "        optional.append(field)"
   ]
  },
  {
   "cell_type": "code",
   "execution_count": 10,
   "metadata": {
    "collapsed": false
   },
   "outputs": [
    {
     "data": {
      "text/plain": [
       "['locale', 'cardId', 'cardSet', 'type', 'name']"
      ]
     },
     "execution_count": 10,
     "metadata": {},
     "output_type": "execute_result"
    }
   ],
   "source": [
    "# These fields are required.\n",
    "required"
   ]
  },
  {
   "cell_type": "code",
   "execution_count": 12,
   "metadata": {
    "collapsed": false
   },
   "outputs": [
    {
     "data": {
      "text/plain": [
       "['durability',\n",
       " 'imgGold',\n",
       " 'collectible',\n",
       " 'img',\n",
       " 'flavor',\n",
       " 'playerClass',\n",
       " 'cost',\n",
       " 'attack',\n",
       " 'text',\n",
       " 'artist',\n",
       " 'mechanics',\n",
       " 'howToGetGold',\n",
       " 'multiClassGroup',\n",
       " 'race',\n",
       " 'elite',\n",
       " 'howToGet',\n",
       " 'rarity',\n",
       " 'classes',\n",
       " 'health',\n",
       " 'faction']"
      ]
     },
     "execution_count": 12,
     "metadata": {},
     "output_type": "execute_result"
    }
   ],
   "source": [
    "# These fields are optional.\n",
    "optional"
   ]
  },
  {
   "cell_type": "code",
   "execution_count": null,
   "metadata": {
    "collapsed": true
   },
   "outputs": [],
   "source": []
  }
 ],
 "metadata": {
  "kernelspec": {
   "display_name": "Python 3",
   "language": "python",
   "name": "python3"
  },
  "language_info": {
   "codemirror_mode": {
    "name": "ipython",
    "version": 3
   },
   "file_extension": ".py",
   "mimetype": "text/x-python",
   "name": "python",
   "nbconvert_exporter": "python",
   "pygments_lexer": "ipython3",
   "version": "3.5.2"
  }
 },
 "nbformat": 4,
 "nbformat_minor": 2
}
