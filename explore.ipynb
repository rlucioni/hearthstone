{
 "cells": [
  {
   "cell_type": "code",
   "execution_count": 1,
   "metadata": {
    "collapsed": true
   },
   "outputs": [],
   "source": [
    "import json"
   ]
  },
  {
   "cell_type": "code",
   "execution_count": 5,
   "metadata": {
    "collapsed": false
   },
   "outputs": [
    {
     "data": {
      "text/plain": [
       "dict_keys(['Reward', 'Credits', 'System', 'Tavern Brawl', 'Missions', 'The Grand Tournament', 'Basic', 'Hero Skins', 'Karazhan', 'The League of Explorers', 'Blackrock Mountain', 'Debug', 'Promo', 'Mean Streets of Gadgetzan', 'Naxxramas', 'Goblins vs Gnomes', 'Classic', 'Whispers of the Old Gods'])"
      ]
     },
     "execution_count": 5,
     "metadata": {},
     "output_type": "execute_result"
    }
   ],
   "source": [
    "# Let's see what fields are present in the card data, so we can accurately model the data and load it into a database.\n",
    "with open('data/cards.json') as f:\n",
    "    data = json.load(f)\n",
    "\n",
    "# Keys are card sets, which also appear in individual card data in the `cardSet` field.\n",
    "data.keys()"
   ]
  },
  {
   "cell_type": "code",
   "execution_count": null,
   "metadata": {
    "collapsed": true
   },
   "outputs": [],
   "source": []
  }
 ],
 "metadata": {
  "kernelspec": {
   "display_name": "Python 3",
   "language": "python",
   "name": "python3"
  },
  "language_info": {
   "codemirror_mode": {
    "name": "ipython",
    "version": 3
   },
   "file_extension": ".py",
   "mimetype": "text/x-python",
   "name": "python",
   "nbconvert_exporter": "python",
   "pygments_lexer": "ipython3",
   "version": "3.5.2"
  }
 },
 "nbformat": 4,
 "nbformat_minor": 2
}
