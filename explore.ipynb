{
 "cells": [
  {
   "cell_type": "code",
   "execution_count": 13,
   "metadata": {
    "collapsed": true
   },
   "outputs": [],
   "source": [
    "import itertools\n",
    "import json"
   ]
  },
  {
   "cell_type": "code",
   "execution_count": 14,
   "metadata": {
    "collapsed": false
   },
   "outputs": [
    {
     "data": {
      "text/plain": [
       "dict_keys(['Basic', 'The League of Explorers', 'Hero Skins', 'Mean Streets of Gadgetzan', 'Debug', 'Naxxramas', 'System', 'Missions', 'The Grand Tournament', 'Tavern Brawl', 'Whispers of the Old Gods', 'Goblins vs Gnomes', 'Credits', 'Karazhan', 'Blackrock Mountain', 'Reward', 'Promo', 'Classic'])"
      ]
     },
     "execution_count": 14,
     "metadata": {},
     "output_type": "execute_result"
    }
   ],
   "source": [
    "# Let's see what fields are present in the card data, so we can accurately model the data and load it into a database.\n",
    "with open('data/cards.json') as f:\n",
    "    data = json.load(f)\n",
    "\n",
    "# Keys are card sets, which also appear in individual card data in the `cardSet` field.\n",
    "data.keys()"
   ]
  },
  {
   "cell_type": "code",
   "execution_count": 19,
   "metadata": {
    "collapsed": false
   },
   "outputs": [
    {
     "data": {
      "text/plain": [
       "2818"
      ]
     },
     "execution_count": 19,
     "metadata": {},
     "output_type": "execute_result"
    }
   ],
   "source": [
    "# This yields an iterator that returns one card at a time.\n",
    "cards = itertools.chain.from_iterable(data.values())\n",
    "cards = list(cards)\n",
    "\n",
    "# You won't see most of these cards in a deck.\n",
    "# They include heroes, characters from the campaign, enchantments, and more.\n",
    "len(cards)"
   ]
  },
  {
   "cell_type": "code",
   "execution_count": null,
   "metadata": {
    "collapsed": true
   },
   "outputs": [],
   "source": []
  }
 ],
 "metadata": {
  "kernelspec": {
   "display_name": "Python 3",
   "language": "python",
   "name": "python3"
  },
  "language_info": {
   "codemirror_mode": {
    "name": "ipython",
    "version": 3
   },
   "file_extension": ".py",
   "mimetype": "text/x-python",
   "name": "python",
   "nbconvert_exporter": "python",
   "pygments_lexer": "ipython3",
   "version": "3.5.2"
  }
 },
 "nbformat": 4,
 "nbformat_minor": 2
}
